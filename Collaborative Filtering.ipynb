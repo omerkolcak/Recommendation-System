{
 "cells": [
  {
   "cell_type": "code",
   "execution_count": 34,
   "metadata": {
    "_cell_guid": "b1076dfc-b9ad-4769-8c92-a6c4dae69d19",
    "_uuid": "8f2839f25d086af736a60e9eeb907d3b93b6e0e5",
    "execution": {
     "iopub.execute_input": "2023-02-16T15:52:48.704179Z",
     "iopub.status.busy": "2023-02-16T15:52:48.703757Z",
     "iopub.status.idle": "2023-02-16T15:52:48.713005Z",
     "shell.execute_reply": "2023-02-16T15:52:48.711953Z",
     "shell.execute_reply.started": "2023-02-16T15:52:48.704144Z"
    }
   },
   "outputs": [],
   "source": [
    "import pandas as pd\n",
    "import numpy as np\n",
    "import random\n",
    "import matplotlib.pyplot as plt\n",
    "import torch\n",
    "import torch.nn.functional as F\n",
    "import torch.nn as nn\n",
    "from torch.utils.data import Dataset, DataLoader\n",
    "from sklearn import preprocessing\n",
    "from sklearn.model_selection import train_test_split\n",
    "from sklearn.metrics import precision_score,recall_score,accuracy_score,roc_curve,auc"
   ]
  },
  {
   "cell_type": "markdown",
   "metadata": {},
   "source": [
    "<h3> Data Preprocessing and Analysis </h3>"
   ]
  },
  {
   "cell_type": "code",
   "execution_count": 2,
   "metadata": {
    "execution": {
     "iopub.execute_input": "2023-02-16T15:34:51.831695Z",
     "iopub.status.busy": "2023-02-16T15:34:51.831175Z",
     "iopub.status.idle": "2023-02-16T15:34:56.662811Z",
     "shell.execute_reply": "2023-02-16T15:34:56.661807Z",
     "shell.execute_reply.started": "2023-02-16T15:34:51.831662Z"
    }
   },
   "outputs": [
    {
     "name": "stderr",
     "output_type": "stream",
     "text": [
      "/opt/conda/lib/python3.7/site-packages/pandas/util/_decorators.py:311: ParserWarning: Falling back to the 'python' engine because the 'c' engine does not support regex separators (separators > 1 char and different from '\\s+' are interpreted as regex); you can avoid this warning by specifying engine='python'.\n",
      "  return func(*args, **kwargs)\n"
     ]
    }
   ],
   "source": [
    "movies_df = pd.read_table(\"/kaggle/input/movielens-1m-dataset/movies.dat\",sep=\"::\",names=['id','title','genres'],encoding='latin-1')\n",
    "ratings_df = pd.read_table(\"/kaggle/input/movielens-1m-dataset/ratings.dat\",sep=\"::\",names=['user_id','movie_id','rating','timestamp'])"
   ]
  },
  {
   "cell_type": "code",
   "execution_count": 3,
   "metadata": {
    "execution": {
     "iopub.execute_input": "2023-02-16T15:34:56.664972Z",
     "iopub.status.busy": "2023-02-16T15:34:56.664612Z",
     "iopub.status.idle": "2023-02-16T15:34:56.838413Z",
     "shell.execute_reply": "2023-02-16T15:34:56.837234Z",
     "shell.execute_reply.started": "2023-02-16T15:34:56.664938Z"
    }
   },
   "outputs": [
    {
     "data": {
      "text/html": [
       "<div>\n",
       "<style scoped>\n",
       "    .dataframe tbody tr th:only-of-type {\n",
       "        vertical-align: middle;\n",
       "    }\n",
       "\n",
       "    .dataframe tbody tr th {\n",
       "        vertical-align: top;\n",
       "    }\n",
       "\n",
       "    .dataframe thead th {\n",
       "        text-align: right;\n",
       "    }\n",
       "</style>\n",
       "<table border=\"1\" class=\"dataframe\">\n",
       "  <thead>\n",
       "    <tr style=\"text-align: right;\">\n",
       "      <th></th>\n",
       "      <th>user_id</th>\n",
       "      <th>movie_id</th>\n",
       "      <th>rating</th>\n",
       "      <th>timestamp</th>\n",
       "      <th>id</th>\n",
       "      <th>title</th>\n",
       "      <th>genres</th>\n",
       "    </tr>\n",
       "  </thead>\n",
       "  <tbody>\n",
       "    <tr>\n",
       "      <th>0</th>\n",
       "      <td>1</td>\n",
       "      <td>1193</td>\n",
       "      <td>5</td>\n",
       "      <td>978300760</td>\n",
       "      <td>1193</td>\n",
       "      <td>One Flew Over the Cuckoo's Nest (1975)</td>\n",
       "      <td>Drama</td>\n",
       "    </tr>\n",
       "    <tr>\n",
       "      <th>1</th>\n",
       "      <td>1</td>\n",
       "      <td>661</td>\n",
       "      <td>3</td>\n",
       "      <td>978302109</td>\n",
       "      <td>661</td>\n",
       "      <td>James and the Giant Peach (1996)</td>\n",
       "      <td>Animation|Children's|Musical</td>\n",
       "    </tr>\n",
       "    <tr>\n",
       "      <th>2</th>\n",
       "      <td>1</td>\n",
       "      <td>914</td>\n",
       "      <td>3</td>\n",
       "      <td>978301968</td>\n",
       "      <td>914</td>\n",
       "      <td>My Fair Lady (1964)</td>\n",
       "      <td>Musical|Romance</td>\n",
       "    </tr>\n",
       "    <tr>\n",
       "      <th>3</th>\n",
       "      <td>1</td>\n",
       "      <td>3408</td>\n",
       "      <td>4</td>\n",
       "      <td>978300275</td>\n",
       "      <td>3408</td>\n",
       "      <td>Erin Brockovich (2000)</td>\n",
       "      <td>Drama</td>\n",
       "    </tr>\n",
       "    <tr>\n",
       "      <th>4</th>\n",
       "      <td>1</td>\n",
       "      <td>2355</td>\n",
       "      <td>5</td>\n",
       "      <td>978824291</td>\n",
       "      <td>2355</td>\n",
       "      <td>Bug's Life, A (1998)</td>\n",
       "      <td>Animation|Children's|Comedy</td>\n",
       "    </tr>\n",
       "  </tbody>\n",
       "</table>\n",
       "</div>"
      ],
      "text/plain": [
       "   user_id  movie_id  rating  timestamp    id  \\\n",
       "0        1      1193       5  978300760  1193   \n",
       "1        1       661       3  978302109   661   \n",
       "2        1       914       3  978301968   914   \n",
       "3        1      3408       4  978300275  3408   \n",
       "4        1      2355       5  978824291  2355   \n",
       "\n",
       "                                    title                        genres  \n",
       "0  One Flew Over the Cuckoo's Nest (1975)                         Drama  \n",
       "1        James and the Giant Peach (1996)  Animation|Children's|Musical  \n",
       "2                     My Fair Lady (1964)               Musical|Romance  \n",
       "3                  Erin Brockovich (2000)                         Drama  \n",
       "4                    Bug's Life, A (1998)   Animation|Children's|Comedy  "
      ]
     },
     "execution_count": 3,
     "metadata": {},
     "output_type": "execute_result"
    }
   ],
   "source": [
    "ratings_df = pd.merge(ratings_df, movies_df, how='left', left_on='movie_id', right_on='id')\n",
    "ratings_df.head()"
   ]
  },
  {
   "cell_type": "code",
   "execution_count": 4,
   "metadata": {
    "execution": {
     "iopub.execute_input": "2023-02-16T15:35:02.409172Z",
     "iopub.status.busy": "2023-02-16T15:35:02.408498Z",
     "iopub.status.idle": "2023-02-16T15:35:02.567003Z",
     "shell.execute_reply": "2023-02-16T15:35:02.565897Z",
     "shell.execute_reply.started": "2023-02-16T15:35:02.409138Z"
    }
   },
   "outputs": [
    {
     "data": {
      "text/html": [
       "<div>\n",
       "<style scoped>\n",
       "    .dataframe tbody tr th:only-of-type {\n",
       "        vertical-align: middle;\n",
       "    }\n",
       "\n",
       "    .dataframe tbody tr th {\n",
       "        vertical-align: top;\n",
       "    }\n",
       "\n",
       "    .dataframe thead th {\n",
       "        text-align: right;\n",
       "    }\n",
       "</style>\n",
       "<table border=\"1\" class=\"dataframe\">\n",
       "  <thead>\n",
       "    <tr style=\"text-align: right;\">\n",
       "      <th></th>\n",
       "      <th>user_id</th>\n",
       "      <th>movie_id</th>\n",
       "      <th>rating</th>\n",
       "      <th>timestamp</th>\n",
       "      <th>id</th>\n",
       "    </tr>\n",
       "  </thead>\n",
       "  <tbody>\n",
       "    <tr>\n",
       "      <th>count</th>\n",
       "      <td>1.000209e+06</td>\n",
       "      <td>1.000209e+06</td>\n",
       "      <td>1.000209e+06</td>\n",
       "      <td>1.000209e+06</td>\n",
       "      <td>1.000209e+06</td>\n",
       "    </tr>\n",
       "    <tr>\n",
       "      <th>mean</th>\n",
       "      <td>3.024512e+03</td>\n",
       "      <td>1.865540e+03</td>\n",
       "      <td>3.581564e+00</td>\n",
       "      <td>9.722437e+08</td>\n",
       "      <td>1.865540e+03</td>\n",
       "    </tr>\n",
       "    <tr>\n",
       "      <th>std</th>\n",
       "      <td>1.728413e+03</td>\n",
       "      <td>1.096041e+03</td>\n",
       "      <td>1.117102e+00</td>\n",
       "      <td>1.215256e+07</td>\n",
       "      <td>1.096041e+03</td>\n",
       "    </tr>\n",
       "    <tr>\n",
       "      <th>min</th>\n",
       "      <td>1.000000e+00</td>\n",
       "      <td>1.000000e+00</td>\n",
       "      <td>1.000000e+00</td>\n",
       "      <td>9.567039e+08</td>\n",
       "      <td>1.000000e+00</td>\n",
       "    </tr>\n",
       "    <tr>\n",
       "      <th>25%</th>\n",
       "      <td>1.506000e+03</td>\n",
       "      <td>1.030000e+03</td>\n",
       "      <td>3.000000e+00</td>\n",
       "      <td>9.653026e+08</td>\n",
       "      <td>1.030000e+03</td>\n",
       "    </tr>\n",
       "    <tr>\n",
       "      <th>50%</th>\n",
       "      <td>3.070000e+03</td>\n",
       "      <td>1.835000e+03</td>\n",
       "      <td>4.000000e+00</td>\n",
       "      <td>9.730180e+08</td>\n",
       "      <td>1.835000e+03</td>\n",
       "    </tr>\n",
       "    <tr>\n",
       "      <th>75%</th>\n",
       "      <td>4.476000e+03</td>\n",
       "      <td>2.770000e+03</td>\n",
       "      <td>4.000000e+00</td>\n",
       "      <td>9.752209e+08</td>\n",
       "      <td>2.770000e+03</td>\n",
       "    </tr>\n",
       "    <tr>\n",
       "      <th>max</th>\n",
       "      <td>6.040000e+03</td>\n",
       "      <td>3.952000e+03</td>\n",
       "      <td>5.000000e+00</td>\n",
       "      <td>1.046455e+09</td>\n",
       "      <td>3.952000e+03</td>\n",
       "    </tr>\n",
       "  </tbody>\n",
       "</table>\n",
       "</div>"
      ],
      "text/plain": [
       "            user_id      movie_id        rating     timestamp            id\n",
       "count  1.000209e+06  1.000209e+06  1.000209e+06  1.000209e+06  1.000209e+06\n",
       "mean   3.024512e+03  1.865540e+03  3.581564e+00  9.722437e+08  1.865540e+03\n",
       "std    1.728413e+03  1.096041e+03  1.117102e+00  1.215256e+07  1.096041e+03\n",
       "min    1.000000e+00  1.000000e+00  1.000000e+00  9.567039e+08  1.000000e+00\n",
       "25%    1.506000e+03  1.030000e+03  3.000000e+00  9.653026e+08  1.030000e+03\n",
       "50%    3.070000e+03  1.835000e+03  4.000000e+00  9.730180e+08  1.835000e+03\n",
       "75%    4.476000e+03  2.770000e+03  4.000000e+00  9.752209e+08  2.770000e+03\n",
       "max    6.040000e+03  3.952000e+03  5.000000e+00  1.046455e+09  3.952000e+03"
      ]
     },
     "execution_count": 4,
     "metadata": {},
     "output_type": "execute_result"
    }
   ],
   "source": [
    "ratings_df.describe()"
   ]
  },
  {
   "cell_type": "code",
   "execution_count": 5,
   "metadata": {
    "execution": {
     "iopub.execute_input": "2023-02-16T15:35:03.779537Z",
     "iopub.status.busy": "2023-02-16T15:35:03.779180Z",
     "iopub.status.idle": "2023-02-16T15:35:04.094822Z",
     "shell.execute_reply": "2023-02-16T15:35:04.093890Z",
     "shell.execute_reply.started": "2023-02-16T15:35:03.779493Z"
    }
   },
   "outputs": [
    {
     "data": {
      "text/plain": [
       "<AxesSubplot:ylabel='Frequency'>"
      ]
     },
     "execution_count": 5,
     "metadata": {},
     "output_type": "execute_result"
    },
    {
     "data": {
      "image/png": "[encoded data removed]",
      "text/plain": [
       "<Figure size 432x288 with 1 Axes>"
      ]
     },
     "metadata": {
      "needs_background": "light"
     },
     "output_type": "display_data"
    }
   ],
   "source": [
    "ratings_df.rating.plot.hist(bins=5)"
   ]
  },
  {
   "cell_type": "code",
   "execution_count": 6,
   "metadata": {
    "execution": {
     "iopub.execute_input": "2023-02-16T15:35:10.295936Z",
     "iopub.status.busy": "2023-02-16T15:35:10.295018Z",
     "iopub.status.idle": "2023-02-16T15:35:10.344407Z",
     "shell.execute_reply": "2023-02-16T15:35:10.343486Z",
     "shell.execute_reply.started": "2023-02-16T15:35:10.295900Z"
    }
   },
   "outputs": [
    {
     "data": {
      "text/html": [
       "<div>\n",
       "<style scoped>\n",
       "    .dataframe tbody tr th:only-of-type {\n",
       "        vertical-align: middle;\n",
       "    }\n",
       "\n",
       "    .dataframe tbody tr th {\n",
       "        vertical-align: top;\n",
       "    }\n",
       "\n",
       "    .dataframe thead th {\n",
       "        text-align: right;\n",
       "    }\n",
       "</style>\n",
       "<table border=\"1\" class=\"dataframe\">\n",
       "  <thead>\n",
       "    <tr style=\"text-align: right;\">\n",
       "      <th></th>\n",
       "      <th>title</th>\n",
       "      <th>#watch</th>\n",
       "      <th>avg_rating</th>\n",
       "    </tr>\n",
       "  </thead>\n",
       "  <tbody>\n",
       "    <tr>\n",
       "      <th>0</th>\n",
       "      <td>Toy Story (1995)</td>\n",
       "      <td>2077</td>\n",
       "      <td>4.146846</td>\n",
       "    </tr>\n",
       "    <tr>\n",
       "      <th>1</th>\n",
       "      <td>Jumanji (1995)</td>\n",
       "      <td>701</td>\n",
       "      <td>3.201141</td>\n",
       "    </tr>\n",
       "    <tr>\n",
       "      <th>2</th>\n",
       "      <td>Grumpier Old Men (1995)</td>\n",
       "      <td>478</td>\n",
       "      <td>3.016736</td>\n",
       "    </tr>\n",
       "    <tr>\n",
       "      <th>3</th>\n",
       "      <td>Waiting to Exhale (1995)</td>\n",
       "      <td>170</td>\n",
       "      <td>2.729412</td>\n",
       "    </tr>\n",
       "    <tr>\n",
       "      <th>4</th>\n",
       "      <td>Father of the Bride Part II (1995)</td>\n",
       "      <td>296</td>\n",
       "      <td>3.006757</td>\n",
       "    </tr>\n",
       "  </tbody>\n",
       "</table>\n",
       "</div>"
      ],
      "text/plain": [
       "                                title  #watch  avg_rating\n",
       "0                    Toy Story (1995)    2077    4.146846\n",
       "1                      Jumanji (1995)     701    3.201141\n",
       "2             Grumpier Old Men (1995)     478    3.016736\n",
       "3            Waiting to Exhale (1995)     170    2.729412\n",
       "4  Father of the Bride Part II (1995)     296    3.006757"
      ]
     },
     "execution_count": 6,
     "metadata": {},
     "output_type": "execute_result"
    }
   ],
   "source": [
    "movie_stats = ratings_df.groupby(\"movie_id\",as_index=False).aggregate(\n",
    "    {'user_id' : 'count', 'rating' : 'mean'}).rename(columns={'user_id' : '#watch', 'rating' : 'avg_rating'})\n",
    "\n",
    "movie_stats = pd.merge(movie_stats,movies_df,how='left',left_on='movie_id',right_on='id')[['title','#watch','avg_rating']]\n",
    "movie_stats.head()"
   ]
  },
  {
   "cell_type": "code",
   "execution_count": 7,
   "metadata": {
    "execution": {
     "iopub.execute_input": "2023-02-16T15:35:16.349966Z",
     "iopub.status.busy": "2023-02-16T15:35:16.349371Z",
     "iopub.status.idle": "2023-02-16T15:35:16.821311Z",
     "shell.execute_reply": "2023-02-16T15:35:16.820239Z",
     "shell.execute_reply.started": "2023-02-16T15:35:16.349923Z"
    }
   },
   "outputs": [
    {
     "data": {
      "text/plain": [
       "[Text(0, 0, '3428'),\n",
       " Text(0, 0, '2991'),\n",
       " Text(0, 0, '2990'),\n",
       " Text(0, 0, '2883'),\n",
       " Text(0, 0, '2672'),\n",
       " Text(0, 0, '2653'),\n",
       " Text(0, 0, '2649'),\n",
       " Text(0, 0, '2590'),\n",
       " Text(0, 0, '2583'),\n",
       " Text(0, 0, '2578')]"
      ]
     },
     "execution_count": 7,
     "metadata": {},
     "output_type": "execute_result"
    },
    {
     "data": {
      "image/png": "[encoded data removed]",
      "text/plain": [
       "<Figure size 864x432 with 1 Axes>"
      ]
     },
     "metadata": {
      "needs_background": "light"
     },
     "output_type": "display_data"
    }
   ],
   "source": [
    "# top 10 most popular movies\n",
    "ax = movie_stats.sort_values(by=['#watch'],ascending=False)[:10].plot(x='title',y='#watch',kind='bar',figsize=(12,6),legend=False,ylabel='#watch')\n",
    "ax.bar_label(ax.containers[0])"
   ]
  },
  {
   "cell_type": "code",
   "execution_count": 8,
   "metadata": {
    "execution": {
     "iopub.execute_input": "2023-02-16T15:35:25.338509Z",
     "iopub.status.busy": "2023-02-16T15:35:25.338157Z",
     "iopub.status.idle": "2023-02-16T15:35:25.731311Z",
     "shell.execute_reply": "2023-02-16T15:35:25.730399Z",
     "shell.execute_reply.started": "2023-02-16T15:35:25.338479Z"
    }
   },
   "outputs": [
    {
     "data": {
      "text/plain": [
       "[Text(0, 0, '4.55456'),\n",
       " Text(0, 0, '4.52497'),\n",
       " Text(0, 0, '4.51711'),\n",
       " Text(0, 0, '4.51042'),\n",
       " Text(0, 0, '4.47772'),\n",
       " Text(0, 0, '4.47619'),\n",
       " Text(0, 0, '4.45369'),\n",
       " Text(0, 0, '4.44989'),\n",
       " Text(0, 0, '4.41282'),\n",
       " Text(0, 0, '4.40626')]"
      ]
     },
     "execution_count": 8,
     "metadata": {},
     "output_type": "execute_result"
    },
    {
     "data": {
      "image/png": "[encoded data removed]",
      "text/plain": [
       "<Figure size 864x432 with 1 Axes>"
      ]
     },
     "metadata": {
      "needs_background": "light"
     },
     "output_type": "display_data"
    }
   ],
   "source": [
    "# top 10 most liked movies\n",
    "ax = movie_stats[movie_stats['#watch'] >= 1000].sort_values(by=['avg_rating'],ascending=False)[:10].plot(x='title',y='avg_rating',kind='bar',figsize=(12,6),legend=False,ylabel='avg-rating')\n",
    "ax.bar_label(ax.containers[0])"
   ]
  },
  {
   "cell_type": "code",
   "execution_count": 9,
   "metadata": {
    "execution": {
     "iopub.execute_input": "2023-02-16T15:35:39.458056Z",
     "iopub.status.busy": "2023-02-16T15:35:39.457644Z",
     "iopub.status.idle": "2023-02-16T15:35:39.495547Z",
     "shell.execute_reply": "2023-02-16T15:35:39.494603Z",
     "shell.execute_reply.started": "2023-02-16T15:35:39.458021Z"
    }
   },
   "outputs": [],
   "source": [
    "# ratings are converted to binary since we will be working on ctr or like prediction\n",
    "# 3 and below ratings are considered as dislike, 4 and 5 are considered as like\n",
    "ratings_df.loc[ratings_df.rating <= 3,'rating'] = 0\n",
    "ratings_df.loc[ratings_df.rating > 3,'rating'] = 1"
   ]
  },
  {
   "cell_type": "code",
   "execution_count": 10,
   "metadata": {
    "execution": {
     "iopub.execute_input": "2023-02-16T15:35:42.651237Z",
     "iopub.status.busy": "2023-02-16T15:35:42.650804Z",
     "iopub.status.idle": "2023-02-16T15:35:42.676112Z",
     "shell.execute_reply": "2023-02-16T15:35:42.675112Z",
     "shell.execute_reply.started": "2023-02-16T15:35:42.651199Z"
    }
   },
   "outputs": [
    {
     "data": {
      "text/plain": [
       "1    575281\n",
       "0    424928\n",
       "Name: rating, dtype: int64"
      ]
     },
     "execution_count": 10,
     "metadata": {},
     "output_type": "execute_result"
    }
   ],
   "source": [
    "ratings_df['rating'].value_counts()"
   ]
  },
  {
   "cell_type": "code",
   "execution_count": 11,
   "metadata": {
    "execution": {
     "iopub.execute_input": "2023-02-16T15:36:00.014660Z",
     "iopub.status.busy": "2023-02-16T15:36:00.014283Z",
     "iopub.status.idle": "2023-02-16T15:36:00.019572Z",
     "shell.execute_reply": "2023-02-16T15:36:00.018383Z",
     "shell.execute_reply.started": "2023-02-16T15:36:00.014629Z"
    }
   },
   "outputs": [],
   "source": [
    "# define label encoders for movies and users\n",
    "user_encoder = preprocessing.LabelEncoder()\n",
    "movie_encoder = preprocessing.LabelEncoder()"
   ]
  },
  {
   "cell_type": "code",
   "execution_count": 12,
   "metadata": {
    "execution": {
     "iopub.execute_input": "2023-02-16T15:36:00.300795Z",
     "iopub.status.busy": "2023-02-16T15:36:00.299918Z",
     "iopub.status.idle": "2023-02-16T15:36:00.420002Z",
     "shell.execute_reply": "2023-02-16T15:36:00.419010Z",
     "shell.execute_reply.started": "2023-02-16T15:36:00.300751Z"
    }
   },
   "outputs": [],
   "source": [
    "# make sure that all user and movie ids start from 1\n",
    "ratings_df.user_id = user_encoder.fit_transform(ratings_df.user_id.values)\n",
    "ratings_df.movie_id = movie_encoder.fit_transform(ratings_df.movie_id.values)"
   ]
  },
  {
   "cell_type": "code",
   "execution_count": 13,
   "metadata": {
    "execution": {
     "iopub.execute_input": "2023-02-16T15:36:02.994091Z",
     "iopub.status.busy": "2023-02-16T15:36:02.993407Z",
     "iopub.status.idle": "2023-02-16T15:36:03.019544Z",
     "shell.execute_reply": "2023-02-16T15:36:03.018515Z",
     "shell.execute_reply.started": "2023-02-16T15:36:02.994056Z"
    }
   },
   "outputs": [
    {
     "data": {
      "text/html": [
       "<div>\n",
       "<style scoped>\n",
       "    .dataframe tbody tr th:only-of-type {\n",
       "        vertical-align: middle;\n",
       "    }\n",
       "\n",
       "    .dataframe tbody tr th {\n",
       "        vertical-align: top;\n",
       "    }\n",
       "\n",
       "    .dataframe thead th {\n",
       "        text-align: right;\n",
       "    }\n",
       "</style>\n",
       "<table border=\"1\" class=\"dataframe\">\n",
       "  <thead>\n",
       "    <tr style=\"text-align: right;\">\n",
       "      <th></th>\n",
       "      <th>user_id</th>\n",
       "      <th>movie_id</th>\n",
       "      <th>like</th>\n",
       "    </tr>\n",
       "  </thead>\n",
       "  <tbody>\n",
       "    <tr>\n",
       "      <th>0</th>\n",
       "      <td>0</td>\n",
       "      <td>1104</td>\n",
       "      <td>1</td>\n",
       "    </tr>\n",
       "    <tr>\n",
       "      <th>1</th>\n",
       "      <td>0</td>\n",
       "      <td>639</td>\n",
       "      <td>0</td>\n",
       "    </tr>\n",
       "    <tr>\n",
       "      <th>2</th>\n",
       "      <td>0</td>\n",
       "      <td>853</td>\n",
       "      <td>0</td>\n",
       "    </tr>\n",
       "    <tr>\n",
       "      <th>3</th>\n",
       "      <td>0</td>\n",
       "      <td>3177</td>\n",
       "      <td>1</td>\n",
       "    </tr>\n",
       "    <tr>\n",
       "      <th>4</th>\n",
       "      <td>0</td>\n",
       "      <td>2162</td>\n",
       "      <td>1</td>\n",
       "    </tr>\n",
       "  </tbody>\n",
       "</table>\n",
       "</div>"
      ],
      "text/plain": [
       "   user_id  movie_id  like\n",
       "0        0      1104     1\n",
       "1        0       639     0\n",
       "2        0       853     0\n",
       "3        0      3177     1\n",
       "4        0      2162     1"
      ]
     },
     "execution_count": 13,
     "metadata": {},
     "output_type": "execute_result"
    }
   ],
   "source": [
    "df = ratings_df[['user_id','movie_id','rating']].rename(columns={'rating' : 'like'})\n",
    "df.head()"
   ]
  },
  {
   "cell_type": "markdown",
   "metadata": {},
   "source": [
    "<h3> Model Training and Evaluation </h3>"
   ]
  },
  {
   "cell_type": "code",
   "execution_count": 14,
   "metadata": {
    "execution": {
     "iopub.execute_input": "2023-02-16T15:36:10.614193Z",
     "iopub.status.busy": "2023-02-16T15:36:10.613778Z",
     "iopub.status.idle": "2023-02-16T15:36:10.628793Z",
     "shell.execute_reply": "2023-02-16T15:36:10.627790Z",
     "shell.execute_reply.started": "2023-02-16T15:36:10.614161Z"
    }
   },
   "outputs": [],
   "source": [
    "class MovieLensDataset(Dataset):\n",
    "    \n",
    "    def __init__(self, users, movies, ratings):\n",
    "        self.users = users\n",
    "        self.movies = movies\n",
    "        self.ratings = ratings\n",
    "        \n",
    "    def __len__(self):\n",
    "        return len(self.users)\n",
    "    \n",
    "    def __getitem__(self,idx):\n",
    "        user = self.users[idx]\n",
    "        movie = self.movies[idx]\n",
    "        rating = self.ratings[idx]\n",
    "        \n",
    "        return {\n",
    "               \"users\" : torch.tensor(user), \n",
    "               \"movies\" : torch.tensor(movie), \n",
    "               \"ratings\" : torch.tensor(rating)\n",
    "                }"
   ]
  },
  {
   "cell_type": "code",
   "execution_count": 15,
   "metadata": {
    "execution": {
     "iopub.execute_input": "2023-02-16T15:36:15.036678Z",
     "iopub.status.busy": "2023-02-16T15:36:15.036300Z",
     "iopub.status.idle": "2023-02-16T15:36:15.044319Z",
     "shell.execute_reply": "2023-02-16T15:36:15.043355Z",
     "shell.execute_reply.started": "2023-02-16T15:36:15.036648Z"
    }
   },
   "outputs": [],
   "source": [
    "class CollaborativeFilteringModel(nn.Module):\n",
    "    def __init__(self,n_users,n_movies,emb_dim=32):\n",
    "        super().__init__()\n",
    "        self.user_embeddings = nn.Embedding(n_users,emb_dim)\n",
    "        self.movie_embeddings = nn.Embedding(n_movies,emb_dim)\n",
    "        \n",
    "        self.cosine_sim = nn.CosineSimilarity(dim=1, eps=1e-6)\n",
    "        \n",
    "    def forward(self,user,movie):\n",
    "        user_emb = self.user_embeddings(user)\n",
    "        movie_emb = self.movie_embeddings(movie)\n",
    "        \n",
    "        # apply cosine similarity to user-movie embeddings and scale it between 0-1\n",
    "        # if user and movie embeddings are similar, that means higher chance to user to like the movie\n",
    "        output = (self.cosine_sim(user_emb,movie_emb) + 1) / 2\n",
    "\n",
    "        return output "
   ]
  },
  {
   "cell_type": "code",
   "execution_count": 16,
   "metadata": {
    "execution": {
     "iopub.execute_input": "2023-02-16T15:36:15.221724Z",
     "iopub.status.busy": "2023-02-16T15:36:15.220917Z",
     "iopub.status.idle": "2023-02-16T15:36:15.298949Z",
     "shell.execute_reply": "2023-02-16T15:36:15.298024Z",
     "shell.execute_reply.started": "2023-02-16T15:36:15.221668Z"
    }
   },
   "outputs": [
    {
     "data": {
      "text/plain": [
       "device(type='cuda', index=0)"
      ]
     },
     "execution_count": 16,
     "metadata": {},
     "output_type": "execute_result"
    }
   ],
   "source": [
    "device = torch.device(\"cuda:0\" if torch.cuda.is_available() else \"cpu\")\n",
    "device"
   ]
  },
  {
   "cell_type": "code",
   "execution_count": 17,
   "metadata": {
    "execution": {
     "iopub.execute_input": "2023-02-16T15:36:21.871489Z",
     "iopub.status.busy": "2023-02-16T15:36:21.871124Z",
     "iopub.status.idle": "2023-02-16T15:36:22.250256Z",
     "shell.execute_reply": "2023-02-16T15:36:22.249268Z",
     "shell.execute_reply.started": "2023-02-16T15:36:21.871458Z"
    }
   },
   "outputs": [],
   "source": [
    "train_data, test_data = train_test_split(df, test_size=0.2, random_state=42, stratify=df.like.values)\n",
    "test_data, val_data = train_test_split(test_data, test_size=0.5, random_state=42, stratify=test_data.like.values)"
   ]
  },
  {
   "cell_type": "code",
   "execution_count": 18,
   "metadata": {
    "execution": {
     "iopub.execute_input": "2023-02-16T15:36:22.252648Z",
     "iopub.status.busy": "2023-02-16T15:36:22.252248Z",
     "iopub.status.idle": "2023-02-16T15:36:22.260006Z",
     "shell.execute_reply": "2023-02-16T15:36:22.258890Z",
     "shell.execute_reply.started": "2023-02-16T15:36:22.252610Z"
    }
   },
   "outputs": [],
   "source": [
    "train_dataset = MovieLensDataset(train_data.user_id.values, train_data.movie_id.values, train_data.like.values)\n",
    "val_dataset = MovieLensDataset(val_data.user_id.values, val_data.movie_id.values, val_data.like.values)\n",
    "test_dataset = MovieLensDataset(test_data.user_id.values, test_data.movie_id.values, test_data.like.values)"
   ]
  },
  {
   "cell_type": "code",
   "execution_count": 19,
   "metadata": {
    "execution": {
     "iopub.execute_input": "2023-02-16T15:36:27.992677Z",
     "iopub.status.busy": "2023-02-16T15:36:27.992302Z",
     "iopub.status.idle": "2023-02-16T15:36:27.998100Z",
     "shell.execute_reply": "2023-02-16T15:36:27.997050Z",
     "shell.execute_reply.started": "2023-02-16T15:36:27.992647Z"
    }
   },
   "outputs": [],
   "source": [
    "train_dl = DataLoader(train_dataset, batch_size=1024,shuffle=True)\n",
    "val_dl = DataLoader(val_dataset, batch_size=1024,shuffle=True)\n",
    "test_dl = DataLoader(test_dataset, batch_size=1024,shuffle=True)"
   ]
  },
  {
   "cell_type": "code",
   "execution_count": 20,
   "metadata": {
    "execution": {
     "iopub.execute_input": "2023-02-16T15:36:33.993131Z",
     "iopub.status.busy": "2023-02-16T15:36:33.992478Z",
     "iopub.status.idle": "2023-02-16T15:36:34.011531Z",
     "shell.execute_reply": "2023-02-16T15:36:34.010650Z",
     "shell.execute_reply.started": "2023-02-16T15:36:33.993096Z"
    }
   },
   "outputs": [],
   "source": [
    "user_count = len(ratings_df['user_id'].unique())\n",
    "movie_count = len(ratings_df['movie_id'].unique())"
   ]
  },
  {
   "cell_type": "code",
   "execution_count": 21,
   "metadata": {
    "execution": {
     "iopub.execute_input": "2023-02-16T15:36:34.311914Z",
     "iopub.status.busy": "2023-02-16T15:36:34.311243Z",
     "iopub.status.idle": "2023-02-16T15:36:37.321987Z",
     "shell.execute_reply": "2023-02-16T15:36:37.321115Z",
     "shell.execute_reply.started": "2023-02-16T15:36:34.311876Z"
    }
   },
   "outputs": [
    {
     "data": {
      "text/plain": [
       "CollaborativeFilteringModel(\n",
       "  (user_embeddings): Embedding(6040, 64)\n",
       "  (movie_embeddings): Embedding(3706, 64)\n",
       "  (cosine_sim): CosineSimilarity()\n",
       ")"
      ]
     },
     "execution_count": 21,
     "metadata": {},
     "output_type": "execute_result"
    }
   ],
   "source": [
    "model = CollaborativeFilteringModel(user_count,movie_count,emb_dim=64)\n",
    "model.to(device)"
   ]
  },
  {
   "cell_type": "code",
   "execution_count": 22,
   "metadata": {
    "execution": {
     "iopub.execute_input": "2023-02-16T15:36:48.238055Z",
     "iopub.status.busy": "2023-02-16T15:36:48.237690Z",
     "iopub.status.idle": "2023-02-16T15:36:48.244237Z",
     "shell.execute_reply": "2023-02-16T15:36:48.243142Z",
     "shell.execute_reply.started": "2023-02-16T15:36:48.238026Z"
    }
   },
   "outputs": [],
   "source": [
    "optimizer = torch.optim.Adam(model.parameters(),lr=0.1)\n",
    "loss_function = nn.BCELoss()"
   ]
  },
  {
   "cell_type": "code",
   "execution_count": 23,
   "metadata": {
    "execution": {
     "iopub.execute_input": "2023-02-16T15:36:51.110012Z",
     "iopub.status.busy": "2023-02-16T15:36:51.109656Z",
     "iopub.status.idle": "2023-02-16T15:37:58.404614Z",
     "shell.execute_reply": "2023-02-16T15:37:58.403571Z",
     "shell.execute_reply.started": "2023-02-16T15:36:51.109983Z"
    }
   },
   "outputs": [
    {
     "name": "stdout",
     "output_type": "stream",
     "text": [
      "Epoch 1 - Training Loss: 0.6008950721882188, Validation Loss: 0.5400366412133587\n",
      "Epoch 2 - Training Loss: 0.5150530220526258, Validation Loss: 0.529147284979723\n",
      "Epoch 3 - Training Loss: 0.5040982698692995, Validation Loss: 0.5262442833306838\n",
      "Epoch 4 - Training Loss: 0.499428129295254, Validation Loss: 0.5240477764484833\n",
      "Epoch 5 - Training Loss: 0.4966589735292108, Validation Loss: 0.5233470359627082\n"
     ]
    }
   ],
   "source": [
    "epochs = 5\n",
    "training_losses = []\n",
    "validation_losses = []\n",
    "for epoch in range(epochs):\n",
    "\n",
    "    train_loss = 0.0\n",
    "    \n",
    "    model.train()\n",
    "    # training loop\n",
    "    for i, data in enumerate(train_dl):\n",
    "        users = data['users'].to(device)\n",
    "        movies = data['movies'].to(device)\n",
    "        \n",
    "        ratings = data['ratings'].to(device)\n",
    "        ratings = ratings.view(ratings.shape[0],-1).to(torch.float32)\n",
    "\n",
    "        optimizer.zero_grad()\n",
    "\n",
    "        outputs = model(users,movies)\n",
    "        loss = loss_function(outputs, ratings.squeeze())\n",
    "        train_loss += loss.item()\n",
    "\n",
    "        loss.backward()\n",
    "\n",
    "        optimizer.step()\n",
    "       \n",
    "    train_loss /= (i+1)\n",
    "    training_losses.append(train_loss)\n",
    "    \n",
    "    model.eval()\n",
    "    val_loss = 0.0\n",
    "    for i, data in enumerate(val_dl):\n",
    "        users = data['users'].to(device)\n",
    "        movies = data['movies'].to(device)\n",
    "        \n",
    "        ratings = data['ratings'].to(device)\n",
    "        ratings = ratings.view(ratings.shape[0],-1).to(torch.float32)\n",
    "        \n",
    "        outputs = model(users,movies)\n",
    "        loss = loss_function(outputs, ratings.squeeze())\n",
    "        val_loss += loss.item()\n",
    "\n",
    "    val_loss /= (i+1) \n",
    "    validation_losses.append(val_loss)\n",
    "    print(f\"Epoch {epoch+1} - Training Loss: {train_loss}, Validation Loss: {val_loss}\")"
   ]
  },
  {
   "cell_type": "code",
   "execution_count": 29,
   "metadata": {
    "execution": {
     "iopub.execute_input": "2023-02-16T15:39:57.153695Z",
     "iopub.status.busy": "2023-02-16T15:39:57.153298Z",
     "iopub.status.idle": "2023-02-16T15:39:57.386383Z",
     "shell.execute_reply": "2023-02-16T15:39:57.385487Z",
     "shell.execute_reply.started": "2023-02-16T15:39:57.153656Z"
    }
   },
   "outputs": [
    {
     "data": {
      "image/png": "[encoded data removed]",
      "text/plain": [
       "<Figure size 432x288 with 1 Axes>"
      ]
     },
     "metadata": {
      "needs_background": "light"
     },
     "output_type": "display_data"
    }
   ],
   "source": [
    "plt.plot(range(epochs),training_losses,label='Training loss')\n",
    "plt.plot(range(epochs),validation_losses,label='Validation loss')\n",
    "plt.xlabel(\"Epochs\")\n",
    "plt.ylabel(\"Loss\")\n",
    "plt.title(\"Collaborative Filtering Loss\")\n",
    "plt.legend()\n",
    "plt.show()"
   ]
  },
  {
   "cell_type": "code",
   "execution_count": 24,
   "metadata": {
    "execution": {
     "iopub.execute_input": "2023-02-16T15:38:07.450548Z",
     "iopub.status.busy": "2023-02-16T15:38:07.449490Z",
     "iopub.status.idle": "2023-02-16T15:38:09.119067Z",
     "shell.execute_reply": "2023-02-16T15:38:09.118007Z",
     "shell.execute_reply.started": "2023-02-16T15:38:07.450476Z"
    }
   },
   "outputs": [],
   "source": [
    "predictions = []\n",
    "targets = []\n",
    "\n",
    "# evaluate the model on the test set\n",
    "with torch.no_grad():\n",
    "    for i, data in enumerate(test_dl):\n",
    "        users = data['users'].to(device)\n",
    "        movies = data['movies'].to(device)\n",
    "\n",
    "        ratings = data['ratings'].to(device)\n",
    "        ratings = ratings.view(ratings.shape[0],-1).to(torch.float32)\n",
    "        targets.extend(ratings.squeeze(dim=1).tolist())\n",
    "\n",
    "        outputs = model(users,movies)\n",
    "        predictions.extend(outputs.tolist())"
   ]
  },
  {
   "cell_type": "code",
   "execution_count": 26,
   "metadata": {
    "execution": {
     "iopub.execute_input": "2023-02-16T15:38:12.267747Z",
     "iopub.status.busy": "2023-02-16T15:38:12.267388Z",
     "iopub.status.idle": "2023-02-16T15:38:12.287031Z",
     "shell.execute_reply": "2023-02-16T15:38:12.284896Z",
     "shell.execute_reply.started": "2023-02-16T15:38:12.267716Z"
    }
   },
   "outputs": [],
   "source": [
    "predictions = np.array(predictions)\n",
    "targets = np.array(targets)"
   ]
  },
  {
   "cell_type": "code",
   "execution_count": 31,
   "metadata": {
    "execution": {
     "iopub.execute_input": "2023-02-16T15:41:34.299691Z",
     "iopub.status.busy": "2023-02-16T15:41:34.299316Z",
     "iopub.status.idle": "2023-02-16T15:41:34.400502Z",
     "shell.execute_reply": "2023-02-16T15:41:34.399391Z",
     "shell.execute_reply.started": "2023-02-16T15:41:34.299661Z"
    }
   },
   "outputs": [
    {
     "name": "stdout",
     "output_type": "stream",
     "text": [
      "Precision: 0.7470013466537221\n",
      "Recall: 0.829248366013072\n",
      "Accuracy: 0.7402545465452255\n"
     ]
    }
   ],
   "source": [
    "precision = precision_score(targets,np.where(predictions >= 0.5,1,0))\n",
    "recall = recall_score(targets,np.where(predictions >= 0.5,1,0))\n",
    "accuracy = accuracy_score(targets,np.where(predictions >= 0.5,1,0))\n",
    "\n",
    "print(f\"Precision: {precision}\\nRecall: {recall}\\nAccuracy: {accuracy}\")"
   ]
  },
  {
   "cell_type": "code",
   "execution_count": 28,
   "metadata": {
    "execution": {
     "iopub.execute_input": "2023-02-16T15:38:24.531555Z",
     "iopub.status.busy": "2023-02-16T15:38:24.531180Z",
     "iopub.status.idle": "2023-02-16T15:38:24.735169Z",
     "shell.execute_reply": "2023-02-16T15:38:24.734295Z",
     "shell.execute_reply.started": "2023-02-16T15:38:24.531505Z"
    }
   },
   "outputs": [
    {
     "data": {
      "image/png": "[encoded data removed]",
      "text/plain": [
       "<Figure size 432x288 with 1 Axes>"
      ]
     },
     "metadata": {
      "needs_background": "light"
     },
     "output_type": "display_data"
    }
   ],
   "source": [
    "# calculate the auc score\n",
    "fpr,tpr,_ = roc_curve(targets,predictions)\n",
    "score = auc(fpr,tpr)\n",
    "plt.plot(fpr, tpr)\n",
    "plt.plot([0, 1], [0, 1], 'k--')\n",
    "plt.xlim([0.0, 1.0])\n",
    "plt.ylim([0.0, 1.05])\n",
    "plt.xlabel('False Positive Rate')\n",
    "plt.ylabel('True Positive Rate')\n",
    "plt.title(f\"AUC {score}\")\n",
    "plt.show()"
   ]
  },
  {
   "cell_type": "markdown",
   "metadata": {},
   "source": [
    "<h3> Recommend Movies </h3>"
   ]
  },
  {
   "cell_type": "code",
   "execution_count": 53,
   "metadata": {
    "execution": {
     "iopub.execute_input": "2023-02-16T15:59:46.116095Z",
     "iopub.status.busy": "2023-02-16T15:59:46.115423Z",
     "iopub.status.idle": "2023-02-16T15:59:46.127807Z",
     "shell.execute_reply": "2023-02-16T15:59:46.126898Z",
     "shell.execute_reply.started": "2023-02-16T15:59:46.116060Z"
    }
   },
   "outputs": [],
   "source": [
    "def recommend_movies(user_id,top_k=10):\n",
    "    # get all the movie_ids\n",
    "    unique_movies = ratings_df.movie_id.unique()\n",
    "    # get the movie_ids that are watched by the user\n",
    "    watched_movies_by_user = ratings_df[ratings_df['user_id'] == user_id]['movie_id'].values\n",
    "    # get the movie_ids that are not watched by the user\n",
    "    not_watched_movies = torch.tensor(list(set(unique_movies) - set(watched_movies_by_user)))\n",
    "    # create a tensor filled with user_id to fed the model\n",
    "    user = torch.full((1,not_watched_movies.shape[0]),user_id)\n",
    "    user = torch.squeeze(user)\n",
    "    \n",
    "    with torch.no_grad():\n",
    "        # make the prediction\n",
    "        user = user.to(device)\n",
    "        not_watched_movies = not_watched_movies.to(device)\n",
    "        movies = model(user,not_watched_movies)\n",
    "        \n",
    "    movies = torch.unsqueeze(movies,1)\n",
    "    movies = torch.cat([torch.unsqueeze(not_watched_movies,1),movies],dim=1)\n",
    "    # get the top k movies\n",
    "    movies = movies[movies[:, 1].sort(descending=True)[1]]\n",
    "    top_k_movies = movies[:top_k,:]\n",
    "    movie_ids = top_k_movies[:,0].to(int).tolist()\n",
    "    \n",
    "    # create a recommendation dataframe\n",
    "    recommended_movies = pd.DataFrame()\n",
    "    for idx,m_id in enumerate(movie_ids):\n",
    "        movie_row = ratings_df[ratings_df['movie_id']==m_id].iloc[0,:]\n",
    "        title = movie_row.title\n",
    "        genres = movie_row.genres\n",
    "\n",
    "        recommended_movies.at[idx,'movie_id'] = m_id\n",
    "        recommended_movies.at[idx,'score'] = top_k_movies[idx,1].item()\n",
    "        recommended_movies.at[idx,'title'] = title\n",
    "        recommended_movies.at[idx,'genres'] = genres\n",
    "        \n",
    "    return recommended_movies"
   ]
  },
  {
   "cell_type": "code",
   "execution_count": 54,
   "metadata": {
    "execution": {
     "iopub.execute_input": "2023-02-16T15:59:47.174824Z",
     "iopub.status.busy": "2023-02-16T15:59:47.174446Z",
     "iopub.status.idle": "2023-02-16T15:59:47.216476Z",
     "shell.execute_reply": "2023-02-16T15:59:47.215540Z",
     "shell.execute_reply.started": "2023-02-16T15:59:47.174793Z"
    }
   },
   "outputs": [
    {
     "name": "stdout",
     "output_type": "stream",
     "text": [
      "Recommendations for user: 1154\n"
     ]
    },
    {
     "data": {
      "text/html": [
       "<div>\n",
       "<style scoped>\n",
       "    .dataframe tbody tr th:only-of-type {\n",
       "        vertical-align: middle;\n",
       "    }\n",
       "\n",
       "    .dataframe tbody tr th {\n",
       "        vertical-align: top;\n",
       "    }\n",
       "\n",
       "    .dataframe thead th {\n",
       "        text-align: right;\n",
       "    }\n",
       "</style>\n",
       "<table border=\"1\" class=\"dataframe\">\n",
       "  <thead>\n",
       "    <tr style=\"text-align: right;\">\n",
       "      <th></th>\n",
       "      <th>movie_id</th>\n",
       "      <th>score</th>\n",
       "      <th>title</th>\n",
       "      <th>genres</th>\n",
       "    </tr>\n",
       "  </thead>\n",
       "  <tbody>\n",
       "    <tr>\n",
       "      <th>0</th>\n",
       "      <td>828.0</td>\n",
       "      <td>0.898708</td>\n",
       "      <td>Talk of Angels (1998)</td>\n",
       "      <td>Drama</td>\n",
       "    </tr>\n",
       "    <tr>\n",
       "      <th>1</th>\n",
       "      <td>2850.0</td>\n",
       "      <td>0.890968</td>\n",
       "      <td>Ten Benny (1997)</td>\n",
       "      <td>Drama</td>\n",
       "    </tr>\n",
       "    <tr>\n",
       "      <th>2</th>\n",
       "      <td>2910.0</td>\n",
       "      <td>0.890200</td>\n",
       "      <td>End of the Affair, The (1955)</td>\n",
       "      <td>Drama</td>\n",
       "    </tr>\n",
       "    <tr>\n",
       "      <th>3</th>\n",
       "      <td>2309.0</td>\n",
       "      <td>0.882843</td>\n",
       "      <td>Apple, The (Sib) (1998)</td>\n",
       "      <td>Drama</td>\n",
       "    </tr>\n",
       "    <tr>\n",
       "      <th>4</th>\n",
       "      <td>2521.0</td>\n",
       "      <td>0.880965</td>\n",
       "      <td>Killing, The (1956)</td>\n",
       "      <td>Crime|Film-Noir</td>\n",
       "    </tr>\n",
       "  </tbody>\n",
       "</table>\n",
       "</div>"
      ],
      "text/plain": [
       "   movie_id     score                          title           genres\n",
       "0     828.0  0.898708          Talk of Angels (1998)            Drama\n",
       "1    2850.0  0.890968               Ten Benny (1997)            Drama\n",
       "2    2910.0  0.890200  End of the Affair, The (1955)            Drama\n",
       "3    2309.0  0.882843        Apple, The (Sib) (1998)            Drama\n",
       "4    2521.0  0.880965            Killing, The (1956)  Crime|Film-Noir"
      ]
     },
     "execution_count": 54,
     "metadata": {},
     "output_type": "execute_result"
    }
   ],
   "source": [
    "top_k_movies = 5\n",
    "user_id = random.randint(0,user_count+1)\n",
    "\n",
    "print(f\"Recommendations for user: {user_id}\")\n",
    "recommend_movies(user_id,top_k_movies)"
   ]
  },
  {
   "cell_type": "code",
   "execution_count": null,
   "metadata": {},
   "outputs": [],
   "source": []
  }
 ],
 "metadata": {
  "kernelspec": {
   "display_name": "Python 3 (ipykernel)",
   "language": "python",
   "name": "python3"
  },
  "language_info": {
   "codemirror_mode": {
    "name": "ipython",
    "version": 3
   },
   "file_extension": ".py",
   "mimetype": "text/x-python",
   "name": "python",
   "nbconvert_exporter": "python",
   "pygments_lexer": "ipython3",
   "version": "3.9.10"
  }
 },
 "nbformat": 4,
 "nbformat_minor": 4
}
