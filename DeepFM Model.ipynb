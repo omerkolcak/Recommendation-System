{
 "cells": [
  {
   "cell_type": "code",
   "execution_count": 1,
   "id": "b37165ee",
   "metadata": {},
   "outputs": [
    {
     "name": "stderr",
     "output_type": "stream",
     "text": [
      "C:\\Users\\Omer\\AppData\\Local\\Programs\\Python\\Python39\\lib\\site-packages\\requests\\__init__.py:102: RequestsDependencyWarning: urllib3 (1.23) or chardet (5.0.0)/charset_normalizer (2.0.10) doesn't match a supported version!\n",
      "  warnings.warn(\"urllib3 ({}) or chardet ({})/charset_normalizer ({}) doesn't match a supported \"\n"
     ]
    }
   ],
   "source": [
    "import pandas as pd\n",
    "import numpy as np\n",
    "import matplotlib.pyplot as plt\n",
    "from deepctr.models import DeepFM, AutoInt\n",
    "from deepctr.feature_column import SparseFeat, VarLenSparseFeat, get_feature_names\n",
    "from tensorflow.keras.preprocessing.sequence import pad_sequences\n",
    "import tensorflow.python as tf\n",
    "from sklearn.metrics import precision_score,recall_score,accuracy_score,roc_curve,auc"
   ]
  },
  {
   "cell_type": "markdown",
   "id": "abfb9288",
   "metadata": {},
   "source": [
    "<h3> Data Preprocessing </h3>"
   ]
  },
  {
   "cell_type": "code",
   "execution_count": 2,
   "id": "26c8da56",
   "metadata": {},
   "outputs": [
    {
     "name": "stderr",
     "output_type": "stream",
     "text": [
      "C:\\Users\\Omer\\AppData\\Local\\Temp\\ipykernel_3064\\3793103997.py:1: ParserWarning: Falling back to the 'python' engine because the 'c' engine does not support regex separators (separators > 1 char and different from '\\s+' are interpreted as regex); you can avoid this warning by specifying engine='python'.\n",
      "  users_df = pd.read_table(\"dataset/users.dat\",sep=\"::\",names=['id','gender','age','occupation','zip_code'])\n",
      "C:\\Users\\Omer\\AppData\\Local\\Temp\\ipykernel_3064\\3793103997.py:2: ParserWarning: Falling back to the 'python' engine because the 'c' engine does not support regex separators (separators > 1 char and different from '\\s+' are interpreted as regex); you can avoid this warning by specifying engine='python'.\n",
      "  movies_df = pd.read_table(\"dataset/movies.dat\",sep=\"::\",names=['id','title','genres'],encoding='latin-1')\n",
      "C:\\Users\\Omer\\AppData\\Local\\Temp\\ipykernel_3064\\3793103997.py:3: ParserWarning: Falling back to the 'python' engine because the 'c' engine does not support regex separators (separators > 1 char and different from '\\s+' are interpreted as regex); you can avoid this warning by specifying engine='python'.\n",
      "  ratings_df = pd.read_table(\"dataset/ratings.dat\",sep=\"::\",names=['user_id','movie_id','rating','timestamp'])\n"
     ]
    }
   ],
   "source": [
    "users_df = pd.read_table(\"dataset/users.dat\",sep=\"::\",names=['id','gender','age','occupation','zip_code'])\n",
    "movies_df = pd.read_table(\"dataset/movies.dat\",sep=\"::\",names=['id','title','genres'],encoding='latin-1')\n",
    "ratings_df = pd.read_table(\"dataset/ratings.dat\",sep=\"::\",names=['user_id','movie_id','rating','timestamp'])"
   ]
  },
  {
   "cell_type": "code",
   "execution_count": 3,
   "id": "4dad6d6e",
   "metadata": {},
   "outputs": [],
   "source": [
    "# join 3 different dataframe into 1 dataframe\n",
    "df = pd.merge(ratings_df, movies_df, how='left', left_on='movie_id', right_on='id')\n",
    "df = pd.merge(df, users_df, how='left', left_on='user_id', right_on='id')"
   ]
  },
  {
   "cell_type": "code",
   "execution_count": 4,
   "id": "b9c9432f",
   "metadata": {},
   "outputs": [
    {
     "data": {
      "text/html": [
       "<div>\n",
       "<style scoped>\n",
       "    .dataframe tbody tr th:only-of-type {\n",
       "        vertical-align: middle;\n",
       "    }\n",
       "\n",
       "    .dataframe tbody tr th {\n",
       "        vertical-align: top;\n",
       "    }\n",
       "\n",
       "    .dataframe thead th {\n",
       "        text-align: right;\n",
       "    }\n",
       "</style>\n",
       "<table border=\"1\" class=\"dataframe\">\n",
       "  <thead>\n",
       "    <tr style=\"text-align: right;\">\n",
       "      <th></th>\n",
       "      <th>user_id</th>\n",
       "      <th>movie_id</th>\n",
       "      <th>rating</th>\n",
       "      <th>title</th>\n",
       "      <th>genres</th>\n",
       "      <th>gender</th>\n",
       "      <th>age</th>\n",
       "      <th>occupation</th>\n",
       "      <th>zip_code</th>\n",
       "    </tr>\n",
       "  </thead>\n",
       "  <tbody>\n",
       "    <tr>\n",
       "      <th>0</th>\n",
       "      <td>1</td>\n",
       "      <td>1193</td>\n",
       "      <td>5</td>\n",
       "      <td>One Flew Over the Cuckoo's Nest (1975)</td>\n",
       "      <td>Drama</td>\n",
       "      <td>F</td>\n",
       "      <td>1</td>\n",
       "      <td>10</td>\n",
       "      <td>48067</td>\n",
       "    </tr>\n",
       "    <tr>\n",
       "      <th>1</th>\n",
       "      <td>1</td>\n",
       "      <td>661</td>\n",
       "      <td>3</td>\n",
       "      <td>James and the Giant Peach (1996)</td>\n",
       "      <td>Animation|Children's|Musical</td>\n",
       "      <td>F</td>\n",
       "      <td>1</td>\n",
       "      <td>10</td>\n",
       "      <td>48067</td>\n",
       "    </tr>\n",
       "    <tr>\n",
       "      <th>2</th>\n",
       "      <td>1</td>\n",
       "      <td>914</td>\n",
       "      <td>3</td>\n",
       "      <td>My Fair Lady (1964)</td>\n",
       "      <td>Musical|Romance</td>\n",
       "      <td>F</td>\n",
       "      <td>1</td>\n",
       "      <td>10</td>\n",
       "      <td>48067</td>\n",
       "    </tr>\n",
       "    <tr>\n",
       "      <th>3</th>\n",
       "      <td>1</td>\n",
       "      <td>3408</td>\n",
       "      <td>4</td>\n",
       "      <td>Erin Brockovich (2000)</td>\n",
       "      <td>Drama</td>\n",
       "      <td>F</td>\n",
       "      <td>1</td>\n",
       "      <td>10</td>\n",
       "      <td>48067</td>\n",
       "    </tr>\n",
       "    <tr>\n",
       "      <th>4</th>\n",
       "      <td>1</td>\n",
       "      <td>2355</td>\n",
       "      <td>5</td>\n",
       "      <td>Bug's Life, A (1998)</td>\n",
       "      <td>Animation|Children's|Comedy</td>\n",
       "      <td>F</td>\n",
       "      <td>1</td>\n",
       "      <td>10</td>\n",
       "      <td>48067</td>\n",
       "    </tr>\n",
       "  </tbody>\n",
       "</table>\n",
       "</div>"
      ],
      "text/plain": [
       "   user_id  movie_id  rating                                   title  \\\n",
       "0        1      1193       5  One Flew Over the Cuckoo's Nest (1975)   \n",
       "1        1       661       3        James and the Giant Peach (1996)   \n",
       "2        1       914       3                     My Fair Lady (1964)   \n",
       "3        1      3408       4                  Erin Brockovich (2000)   \n",
       "4        1      2355       5                    Bug's Life, A (1998)   \n",
       "\n",
       "                         genres gender  age  occupation zip_code  \n",
       "0                         Drama      F    1          10    48067  \n",
       "1  Animation|Children's|Musical      F    1          10    48067  \n",
       "2               Musical|Romance      F    1          10    48067  \n",
       "3                         Drama      F    1          10    48067  \n",
       "4   Animation|Children's|Comedy      F    1          10    48067  "
      ]
     },
     "execution_count": 4,
     "metadata": {},
     "output_type": "execute_result"
    }
   ],
   "source": [
    "df = df.drop(['id_x','timestamp','id_y'],axis=1)\n",
    "df.head()"
   ]
  },
  {
   "cell_type": "code",
   "execution_count": 5,
   "id": "fbb253cf",
   "metadata": {},
   "outputs": [
    {
     "data": {
      "text/plain": [
       "user_id       0\n",
       "movie_id      0\n",
       "rating        0\n",
       "title         0\n",
       "genres        0\n",
       "gender        0\n",
       "age           0\n",
       "occupation    0\n",
       "zip_code      0\n",
       "dtype: int64"
      ]
     },
     "execution_count": 5,
     "metadata": {},
     "output_type": "execute_result"
    }
   ],
   "source": [
    "df.isnull().sum() # check if there are any null values"
   ]
  },
  {
   "cell_type": "code",
   "execution_count": 6,
   "id": "43a1b97d",
   "metadata": {},
   "outputs": [],
   "source": [
    "# extract the movie year information from the movie title\n",
    "df['movie_year'] = df['title'].str[-5:-1].astype(int)"
   ]
  },
  {
   "cell_type": "code",
   "execution_count": 7,
   "id": "920ef2f8",
   "metadata": {},
   "outputs": [],
   "source": [
    "def group_movie_years(x):\n",
    "    if x >= 1910 and x <= 1919:\n",
    "        return \"1910s\"\n",
    "    elif x >= 1920 and x <= 1929:\n",
    "        return \"1920s\"\n",
    "    elif x >= 1930 and x <= 1939:\n",
    "        return \"1930s\"\n",
    "    elif x >= 1940 and x <= 1949:\n",
    "        return \"1940s\"\n",
    "    elif x >= 1950 and x <= 1959:\n",
    "        return \"1950s\"\n",
    "    elif x >= 1960 and x <= 1969:\n",
    "        return \"1960s\"\n",
    "    elif x >= 1970 and x <= 1979:\n",
    "        return \"1970s\"\n",
    "    elif x >= 1980 and x <= 1989:\n",
    "        return \"1980s\"\n",
    "    elif x >= 1990 and x <= 1999:\n",
    "        return \"1990s\"\n",
    "    elif x >= 2000 and x <= 2009:\n",
    "        return \"2000s\""
   ]
  },
  {
   "cell_type": "code",
   "execution_count": 8,
   "id": "2a484f56",
   "metadata": {},
   "outputs": [],
   "source": [
    "df['movie_year'] = df['movie_year'].apply(group_movie_years)"
   ]
  },
  {
   "cell_type": "code",
   "execution_count": 9,
   "id": "377569a5",
   "metadata": {},
   "outputs": [
    {
     "data": {
      "text/plain": [
       "1990s    532843\n",
       "1980s    224056\n",
       "1970s     82552\n",
       "1960s     48555\n",
       "2000s     41000\n",
       "1950s     35232\n",
       "1940s     21501\n",
       "1930s     12729\n",
       "1920s      1696\n",
       "1910s        45\n",
       "Name: movie_year, dtype: int64"
      ]
     },
     "execution_count": 9,
     "metadata": {},
     "output_type": "execute_result"
    }
   ],
   "source": [
    "df['movie_year'].value_counts()"
   ]
  },
  {
   "cell_type": "code",
   "execution_count": 10,
   "id": "9add6a5a",
   "metadata": {},
   "outputs": [
    {
     "data": {
      "text/html": [
       "<div>\n",
       "<style scoped>\n",
       "    .dataframe tbody tr th:only-of-type {\n",
       "        vertical-align: middle;\n",
       "    }\n",
       "\n",
       "    .dataframe tbody tr th {\n",
       "        vertical-align: top;\n",
       "    }\n",
       "\n",
       "    .dataframe thead th {\n",
       "        text-align: right;\n",
       "    }\n",
       "</style>\n",
       "<table border=\"1\" class=\"dataframe\">\n",
       "  <thead>\n",
       "    <tr style=\"text-align: right;\">\n",
       "      <th></th>\n",
       "      <th>user_id</th>\n",
       "      <th>movie_id</th>\n",
       "      <th>like</th>\n",
       "      <th>title</th>\n",
       "      <th>genres</th>\n",
       "      <th>gender</th>\n",
       "      <th>age</th>\n",
       "      <th>occupation</th>\n",
       "      <th>zip_code</th>\n",
       "      <th>movie_year</th>\n",
       "    </tr>\n",
       "  </thead>\n",
       "  <tbody>\n",
       "    <tr>\n",
       "      <th>0</th>\n",
       "      <td>1</td>\n",
       "      <td>1193</td>\n",
       "      <td>1</td>\n",
       "      <td>One Flew Over the Cuckoo's Nest (1975)</td>\n",
       "      <td>Drama</td>\n",
       "      <td>F</td>\n",
       "      <td>1</td>\n",
       "      <td>10</td>\n",
       "      <td>48067</td>\n",
       "      <td>1970s</td>\n",
       "    </tr>\n",
       "    <tr>\n",
       "      <th>1</th>\n",
       "      <td>1</td>\n",
       "      <td>661</td>\n",
       "      <td>0</td>\n",
       "      <td>James and the Giant Peach (1996)</td>\n",
       "      <td>Animation|Children's|Musical</td>\n",
       "      <td>F</td>\n",
       "      <td>1</td>\n",
       "      <td>10</td>\n",
       "      <td>48067</td>\n",
       "      <td>1990s</td>\n",
       "    </tr>\n",
       "    <tr>\n",
       "      <th>2</th>\n",
       "      <td>1</td>\n",
       "      <td>914</td>\n",
       "      <td>0</td>\n",
       "      <td>My Fair Lady (1964)</td>\n",
       "      <td>Musical|Romance</td>\n",
       "      <td>F</td>\n",
       "      <td>1</td>\n",
       "      <td>10</td>\n",
       "      <td>48067</td>\n",
       "      <td>1960s</td>\n",
       "    </tr>\n",
       "    <tr>\n",
       "      <th>3</th>\n",
       "      <td>1</td>\n",
       "      <td>3408</td>\n",
       "      <td>1</td>\n",
       "      <td>Erin Brockovich (2000)</td>\n",
       "      <td>Drama</td>\n",
       "      <td>F</td>\n",
       "      <td>1</td>\n",
       "      <td>10</td>\n",
       "      <td>48067</td>\n",
       "      <td>2000s</td>\n",
       "    </tr>\n",
       "    <tr>\n",
       "      <th>4</th>\n",
       "      <td>1</td>\n",
       "      <td>2355</td>\n",
       "      <td>1</td>\n",
       "      <td>Bug's Life, A (1998)</td>\n",
       "      <td>Animation|Children's|Comedy</td>\n",
       "      <td>F</td>\n",
       "      <td>1</td>\n",
       "      <td>10</td>\n",
       "      <td>48067</td>\n",
       "      <td>1990s</td>\n",
       "    </tr>\n",
       "  </tbody>\n",
       "</table>\n",
       "</div>"
      ],
      "text/plain": [
       "   user_id  movie_id  like                                   title  \\\n",
       "0        1      1193     1  One Flew Over the Cuckoo's Nest (1975)   \n",
       "1        1       661     0        James and the Giant Peach (1996)   \n",
       "2        1       914     0                     My Fair Lady (1964)   \n",
       "3        1      3408     1                  Erin Brockovich (2000)   \n",
       "4        1      2355     1                    Bug's Life, A (1998)   \n",
       "\n",
       "                         genres gender  age  occupation zip_code movie_year  \n",
       "0                         Drama      F    1          10    48067      1970s  \n",
       "1  Animation|Children's|Musical      F    1          10    48067      1990s  \n",
       "2               Musical|Romance      F    1          10    48067      1960s  \n",
       "3                         Drama      F    1          10    48067      2000s  \n",
       "4   Animation|Children's|Comedy      F    1          10    48067      1990s  "
      ]
     },
     "execution_count": 10,
     "metadata": {},
     "output_type": "execute_result"
    }
   ],
   "source": [
    "# classify if rating greater than 3 as like, otherwise dislike\n",
    "df.loc[df.rating <= 3,'rating'] = 0\n",
    "df.loc[df.rating > 3,'rating'] = 1\n",
    "\n",
    "df = df.rename(columns ={'rating' : 'like'})\n",
    "df.head()"
   ]
  },
  {
   "cell_type": "markdown",
   "id": "75564bba",
   "metadata": {},
   "source": [
    "<h3> Deep FM Model Training </h3>"
   ]
  },
  {
   "cell_type": "code",
   "execution_count": 14,
   "id": "b000c57a",
   "metadata": {},
   "outputs": [],
   "source": [
    "from sklearn.preprocessing import LabelEncoder\n",
    "from sklearn.model_selection import train_test_split"
   ]
  },
  {
   "cell_type": "code",
   "execution_count": 15,
   "id": "d75f50bd",
   "metadata": {},
   "outputs": [],
   "source": [
    "def split(x):\n",
    "    key_ans = x.split('|')\n",
    "    for key in key_ans:\n",
    "        if key not in key2index:\n",
    "            # Notice : input value 0 is a special \"padding\",so we do not use 0 to encode valid feature for sequence input\n",
    "            key2index[key] = len(key2index) + 1\n",
    "    return list(map(lambda x: key2index[x], key_ans))"
   ]
  },
  {
   "cell_type": "code",
   "execution_count": 16,
   "id": "6d310d6b",
   "metadata": {},
   "outputs": [],
   "source": [
    "#data = pd.read_csv(\"demo-data.txt\")\n",
    "data = df\n",
    "\n",
    "sparse_features = [\"movie_id\", \"user_id\",\"gender\", \"age\", \"occupation\", \"zip_code\", \"movie_year\"]\n",
    "target = ['like']"
   ]
  },
  {
   "cell_type": "code",
   "execution_count": 17,
   "id": "934d6558",
   "metadata": {},
   "outputs": [],
   "source": [
    "for feat in sparse_features:\n",
    "    lbe = LabelEncoder()\n",
    "    data[feat] = lbe.fit_transform(data[feat])"
   ]
  },
  {
   "cell_type": "code",
   "execution_count": 123,
   "id": "6d6e68e1",
   "metadata": {},
   "outputs": [],
   "source": [
    "fixlen_feature_columns = [SparseFeat(feat, data[feat].max() + 1, embedding_dim=16)\n",
    "                          for feat in sparse_features]"
   ]
  },
  {
   "cell_type": "code",
   "execution_count": 124,
   "id": "4fce563a",
   "metadata": {},
   "outputs": [],
   "source": [
    "key2index = {}\n",
    "genres_list = list(map(split, data['genres'].values))\n",
    "genres_length = np.array(list(map(len, genres_list)))\n",
    "max_len = max(genres_length)\n",
    "# Notice : padding=`post`\n",
    "genres_list = pad_sequences(genres_list, maxlen=max_len, padding='post')"
   ]
  },
  {
   "cell_type": "code",
   "execution_count": 125,
   "id": "9fffde01",
   "metadata": {},
   "outputs": [],
   "source": [
    "varlen_feature_columns = [VarLenSparseFeat(SparseFeat('genres', vocabulary_size=len(\n",
    "            key2index) + 1, embedding_dim=16), maxlen=max_len, combiner='mean',\n",
    "                                                   weight_name=None)]"
   ]
  },
  {
   "cell_type": "code",
   "execution_count": 126,
   "id": "82065e41",
   "metadata": {},
   "outputs": [],
   "source": [
    "linear_feature_columns = fixlen_feature_columns + varlen_feature_columns\n",
    "dnn_feature_columns = fixlen_feature_columns + varlen_feature_columns"
   ]
  },
  {
   "cell_type": "code",
   "execution_count": 127,
   "id": "a1527ad3",
   "metadata": {},
   "outputs": [],
   "source": [
    "feature_names = get_feature_names(linear_feature_columns + dnn_feature_columns)"
   ]
  },
  {
   "cell_type": "code",
   "execution_count": 128,
   "id": "026274ee",
   "metadata": {},
   "outputs": [],
   "source": [
    "train, test = train_test_split(data, test_size=0.1, random_state=42, stratify=data.like.values)\n",
    "\n",
    "train_model_input = {name: train[name].values for name in feature_names}\n",
    "train_model_input['genres'] = genres_list[train.index]\n",
    "\n",
    "test_model_input = {name: test[name].values for name in feature_names}\n",
    "test_model_input['genres'] = genres_list[test.index]"
   ]
  },
  {
   "cell_type": "code",
   "execution_count": 129,
   "id": "f3c5e39e",
   "metadata": {},
   "outputs": [],
   "source": [
    "optimizer = tf.keras.optimizer_v2.adam.Adam(learning_rate=0.001)"
   ]
  },
  {
   "cell_type": "code",
   "execution_count": 130,
   "id": "e8620dd8",
   "metadata": {},
   "outputs": [],
   "source": [
    "early_stopping = tf.keras.callbacks.EarlyStopping(monitor='val_loss', patience=3)"
   ]
  },
  {
   "cell_type": "code",
   "execution_count": 210,
   "id": "858680ca",
   "metadata": {},
   "outputs": [],
   "source": [
    "model = DeepFM(linear_feature_columns, dnn_feature_columns, task='binary',\n",
    "               l2_reg_dnn=0.0001,l2_reg_embedding=0.0001)\n",
    "  \n",
    "model.compile(optimizer, \"binary_crossentropy\", metrics=['accuracy'])"
   ]
  },
  {
   "cell_type": "code",
   "execution_count": 211,
   "id": "d40d2aed",
   "metadata": {},
   "outputs": [
    {
     "name": "stdout",
     "output_type": "stream",
     "text": [
      "Epoch 1/30\n",
      "50/50 - 15s - loss: 0.6045 - accuracy: 0.6872 - val_loss: 0.5654 - val_accuracy: 0.7236\n",
      "Epoch 2/30\n",
      "50/50 - 11s - loss: 0.5568 - accuracy: 0.7276 - val_loss: 0.5540 - val_accuracy: 0.7259\n",
      "Epoch 3/30\n",
      "50/50 - 10s - loss: 0.5479 - accuracy: 0.7313 - val_loss: 0.5490 - val_accuracy: 0.7284\n",
      "Epoch 4/30\n",
      "50/50 - 11s - loss: 0.5420 - accuracy: 0.7340 - val_loss: 0.5464 - val_accuracy: 0.7307\n",
      "Epoch 5/30\n",
      "50/50 - 11s - loss: 0.5361 - accuracy: 0.7383 - val_loss: 0.5436 - val_accuracy: 0.7320\n",
      "Epoch 6/30\n",
      "50/50 - 11s - loss: 0.5303 - accuracy: 0.7431 - val_loss: 0.5404 - val_accuracy: 0.7365\n",
      "Epoch 7/30\n",
      "50/50 - 11s - loss: 0.5243 - accuracy: 0.7479 - val_loss: 0.5372 - val_accuracy: 0.7396\n",
      "Epoch 8/30\n",
      "50/50 - 11s - loss: 0.5184 - accuracy: 0.7519 - val_loss: 0.5346 - val_accuracy: 0.7423\n",
      "Epoch 9/30\n",
      "50/50 - 10s - loss: 0.5134 - accuracy: 0.7559 - val_loss: 0.5333 - val_accuracy: 0.7432\n",
      "Epoch 10/30\n",
      "50/50 - 10s - loss: 0.5083 - accuracy: 0.7592 - val_loss: 0.5312 - val_accuracy: 0.7450\n",
      "Epoch 11/30\n",
      "50/50 - 11s - loss: 0.5055 - accuracy: 0.7612 - val_loss: 0.5331 - val_accuracy: 0.7435\n",
      "Epoch 12/30\n",
      "50/50 - 10s - loss: 0.5011 - accuracy: 0.7643 - val_loss: 0.5317 - val_accuracy: 0.7466\n",
      "Epoch 13/30\n",
      "50/50 - 11s - loss: 0.4973 - accuracy: 0.7674 - val_loss: 0.5318 - val_accuracy: 0.7466\n"
     ]
    }
   ],
   "source": [
    "# ,callbacks=[sch]\n",
    "history = model.fit(train_model_input, train[target].values,callbacks=[early_stopping],\n",
    "                    batch_size=16384, epochs=30, verbose=2, validation_split=0.1)"
   ]
  },
  {
   "cell_type": "code",
   "execution_count": 212,
   "id": "6d973180",
   "metadata": {},
   "outputs": [
    {
     "data": {
      "text/plain": [
       "<matplotlib.legend.Legend at 0x2060e9ba670>"
      ]
     },
     "execution_count": 212,
     "metadata": {},
     "output_type": "execute_result"
    },
    {
     "data": {
      "image/png": "[encoded data removed]",
      "text/plain": [
       "<Figure size 864x288 with 2 Axes>"
      ]
     },
     "metadata": {
      "needs_background": "light"
     },
     "output_type": "display_data"
    }
   ],
   "source": [
    "# plot training and validation metrics\n",
    "epochs = len(history.history['loss'])\n",
    "_, ax = plt.subplots(1,2,figsize=(12,4))\n",
    "ax[0].plot(range(epochs),history.history['loss'],label='Training loss')\n",
    "ax[0].plot(range(epochs),history.history['val_loss'],label='Validation loss')\n",
    "ax[0].set_xlabel(\"Epochs\")\n",
    "ax[0].set_ylabel(\"Loss\")\n",
    "ax[0].set_title(\"DeepFM\")\n",
    "ax[0].legend()\n",
    "\n",
    "ax[1].plot(range(epochs),history.history['accuracy'],label='Training accuracy')\n",
    "ax[1].plot(range(epochs),history.history['val_accuracy'],label='Validation accuracy')\n",
    "ax[1].set_xlabel(\"Epochs\")\n",
    "ax[1].set_ylabel(\"Accuracy\")\n",
    "ax[1].set_title(\"DeepFM\")\n",
    "ax[1].legend()"
   ]
  },
  {
   "cell_type": "code",
   "execution_count": 213,
   "id": "678da0ac",
   "metadata": {},
   "outputs": [],
   "source": [
    "test_preds = model.predict(test_model_input)"
   ]
  },
  {
   "cell_type": "code",
   "execution_count": 215,
   "id": "9a7d63f4",
   "metadata": {},
   "outputs": [
    {
     "name": "stdout",
     "output_type": "stream",
     "text": [
      "Precision: 0.7599671121572168\n",
      "Recall: 0.8194270616047837\n",
      "Accuracy: 0.7472830705551834\n"
     ]
    }
   ],
   "source": [
    "precision = precision_score(test[target].values,np.where(test_preds >= 0.5,1,0))\n",
    "recall = recall_score(test[target].values,np.where(test_preds >= 0.5,1,0))\n",
    "accuracy = accuracy_score(test[target].values,np.where(test_preds >= 0.5,1,0))\n",
    "\n",
    "print(f\"Precision: {precision}\\nRecall: {recall}\\nAccuracy: {accuracy}\")"
   ]
  },
  {
   "cell_type": "code",
   "execution_count": 216,
   "id": "6e22a9d1",
   "metadata": {},
   "outputs": [
    {
     "data": {
      "image/png": "[encoded data removed]",
      "text/plain": [
       "<Figure size 432x288 with 1 Axes>"
      ]
     },
     "metadata": {
      "needs_background": "light"
     },
     "output_type": "display_data"
    }
   ],
   "source": [
    "# calculate the auc score\n",
    "fpr,tpr,_ = roc_curve(test[target].values,test_preds)\n",
    "score = auc(fpr,tpr)\n",
    "plt.plot(fpr, tpr)\n",
    "plt.plot([0, 1], [0, 1], 'k--')\n",
    "plt.xlim([0.0, 1.0])\n",
    "plt.ylim([0.0, 1.05])\n",
    "plt.xlabel('False Positive Rate')\n",
    "plt.ylabel('True Positive Rate')\n",
    "plt.title(f\"DeepFM AUC {score}\")\n",
    "plt.show()"
   ]
  },
  {
   "cell_type": "code",
   "execution_count": 217,
   "id": "2db82f60",
   "metadata": {},
   "outputs": [],
   "source": [
    "model.save_weights('deepfm.h5')"
   ]
  },
  {
   "cell_type": "code",
   "execution_count": null,
   "id": "621ea210",
   "metadata": {},
   "outputs": [],
   "source": []
  }
 ],
 "metadata": {
  "kernelspec": {
   "display_name": "Python 3 (ipykernel)",
   "language": "python",
   "name": "python3"
  },
  "language_info": {
   "codemirror_mode": {
    "name": "ipython",
    "version": 3
   },
   "file_extension": ".py",
   "mimetype": "text/x-python",
   "name": "python",
   "nbconvert_exporter": "python",
   "pygments_lexer": "ipython3",
   "version": "3.9.10"
  }
 },
 "nbformat": 4,
 "nbformat_minor": 5
}
